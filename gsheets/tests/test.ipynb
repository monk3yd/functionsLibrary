{
 "cells": [
  {
   "cell_type": "code",
   "execution_count": 4,
   "metadata": {},
   "outputs": [
    {
     "ename": "ImportError",
     "evalue": "cannot import name 'gmail_authenticate' from 'gdrive_to_df' (/home/monk3yd/GDrive/theLab/projects/scripting/gdrive_to_df/gdrive_to_df.py)",
     "output_type": "error",
     "traceback": [
      "\u001b[0;31m---------------------------------------------------------------------------\u001b[0m",
      "\u001b[0;31mImportError\u001b[0m                               Traceback (most recent call last)",
      "\u001b[1;32m/home/monk3yd/GDrive/theLab/projects/scripting/gdrive_to_df/test.ipynb Cell 1'\u001b[0m in \u001b[0;36m<cell line: 2>\u001b[0;34m()\u001b[0m\n\u001b[1;32m      <a href='vscode-notebook-cell:/home/monk3yd/GDrive/theLab/projects/scripting/gdrive_to_df/test.ipynb#ch0000000?line=0'>1</a>\u001b[0m \u001b[39mimport\u001b[39;00m \u001b[39mpandas\u001b[39;00m \u001b[39mas\u001b[39;00m \u001b[39mpd\u001b[39;00m\n\u001b[0;32m----> <a href='vscode-notebook-cell:/home/monk3yd/GDrive/theLab/projects/scripting/gdrive_to_df/test.ipynb#ch0000000?line=1'>2</a>\u001b[0m \u001b[39mfrom\u001b[39;00m \u001b[39mgdrive_to_df\u001b[39;00m \u001b[39mimport\u001b[39;00m gmail_authenticate, download_gsheet\n\u001b[1;32m      <a href='vscode-notebook-cell:/home/monk3yd/GDrive/theLab/projects/scripting/gdrive_to_df/test.ipynb#ch0000000?line=2'>3</a>\u001b[0m \u001b[39m# If modifying these scopes, delete the file token.json.\u001b[39;00m\n\u001b[1;32m      <a href='vscode-notebook-cell:/home/monk3yd/GDrive/theLab/projects/scripting/gdrive_to_df/test.ipynb#ch0000000?line=3'>4</a>\u001b[0m SCOPES \u001b[39m=\u001b[39m [\u001b[39m'\u001b[39m\u001b[39mhttps://www.googleapis.com/auth/spreadsheets.readonly\u001b[39m\u001b[39m'\u001b[39m]\n",
      "\u001b[0;31mImportError\u001b[0m: cannot import name 'gmail_authenticate' from 'gdrive_to_df' (/home/monk3yd/GDrive/theLab/projects/scripting/gdrive_to_df/gdrive_to_df.py)"
     ]
    }
   ],
   "source": [
    "import pandas as pd\n",
    "\n",
    "# If modifying these scopes, delete the file token.json.\n",
    "SCOPES = ['https://www.googleapis.com/auth/spreadsheets.readonly']\n",
    "\n",
    "# The ID and range of a sample spreadsheet.\n",
    "SPREADSHEET_ID = '0HiyHTIXVW98BDp7nlyMmzP37-okkuHCB--759NX4AEM'\n",
    "RANGE_NAME = 'Protecciones!A0:AJ'\n",
    "\n",
    "\n",
    "# Connect to Google Drive (Authentication)\n",
    "service = gdrive_authenticate()\n",
    "gsheets = download_gsheet(service)  # csv or df?\n",
    "\n",
    "df = pd.DataFrame(gsheets)\n",
    "\n",
    "# First row as header\n",
    "gsheets_df = df.rename(columns=df.iloc[-1]).loc[1:]\n",
    "# print(gsheets_df)\n",
    "# print(type(gsheets_df))from gdrive_to_df import download_gsheet, gdrive_authenticate\n",
    "print(gsheets_df)"
   ]
  }
 ],
 "metadata": {
  "interpreter": {
   "hash": "8d31ffb1f428047c8e9927d66b83729ce92dab57c0d0a2e62d783ff62bb34cf5"
  },
  "kernelspec": {
   "display_name": "Python 3.9.12 ('scripting')",
   "language": "python",
   "name": "python3"
  },
  "language_info": {
   "codemirror_mode": {
    "name": "ipython",
    "version": 3
   },
   "file_extension": ".py",
   "mimetype": "text/x-python",
   "name": "python",
   "nbconvert_exporter": "python",
   "pygments_lexer": "ipython3",
   "version": "3.9.12"
  },
  "orig_nbformat": 4
 },
 "nbformat": 4,
 "nbformat_minor": 2
}
